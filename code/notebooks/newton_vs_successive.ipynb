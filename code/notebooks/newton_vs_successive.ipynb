{
 "cells": [
  {
   "cell_type": "code",
   "execution_count": 2,
   "id": "10faa8e7",
   "metadata": {},
   "outputs": [],
   "source": [
    "%run ../src/wc_ratio_multi_index.py"
   ]
  },
  {
   "cell_type": "code",
   "execution_count": 3,
   "id": "8ed7854f",
   "metadata": {},
   "outputs": [],
   "source": [
    "s = 18\n",
    "ssy = SSY(L=s, K=s, I=s, J=s, build_single_index=False)"
   ]
  },
  {
   "cell_type": "code",
   "execution_count": null,
   "id": "0dec256f",
   "metadata": {},
   "outputs": [],
   "source": [
    "%%time\n",
    "w_star_multi_sa = wc_ratio_multi_index(ssy, algorithm=\"successive_approx\")"
   ]
  },
  {
   "cell_type": "code",
   "execution_count": null,
   "id": "706fbcbf",
   "metadata": {},
   "outputs": [],
   "source": [
    "%%time\n",
    "w_star_multi_newton = wc_ratio_multi_index(ssy, algorithm=\"newton\")"
   ]
  },
  {
   "cell_type": "code",
   "execution_count": null,
   "id": "03e0f241",
   "metadata": {},
   "outputs": [],
   "source": []
  }
 ],
 "metadata": {
  "kernelspec": {
   "display_name": "Python 3 (ipykernel)",
   "language": "python",
   "name": "python3"
  },
  "language_info": {
   "codemirror_mode": {
    "name": "ipython",
    "version": 3
   },
   "file_extension": ".py",
   "mimetype": "text/x-python",
   "name": "python",
   "nbconvert_exporter": "python",
   "pygments_lexer": "ipython3",
   "version": "3.9.12"
  }
 },
 "nbformat": 4,
 "nbformat_minor": 5
}
