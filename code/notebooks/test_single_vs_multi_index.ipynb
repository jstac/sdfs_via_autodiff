{
 "cells": [
  {
   "cell_type": "markdown",
   "id": "daeb345c",
   "metadata": {},
   "source": [
    "# Discrete Solution Methods: Single vs Multi Index Methods"
   ]
  },
  {
   "cell_type": "markdown",
   "id": "29561c4f",
   "metadata": {},
   "source": [
    "We compare single and multi index methods for computing the wealth consumption ratio."
   ]
  },
  {
   "cell_type": "markdown",
   "id": "539ce6fc",
   "metadata": {},
   "source": [
    "## Single Index Code"
   ]
  },
  {
   "cell_type": "markdown",
   "id": "cee9b2b2",
   "metadata": {},
   "source": [
    "In these models, the state space is a multi-dimensional grid.  Single index code stacks this multi-dimensional grid into a single array, with a single index.  Transition probabilities across states can then be represented by a Markov matrix.\n",
    "\n",
    "The code is neat but the size of the Markov matrix is $n \\times n$ when $n$ is the size of the state space.  Similarly, the Jacobian for Newton's method is $n \\times n$. This matrix cannot be instantiated or manipulated when $n$ is large.  Hence the single index code fails for large $n$."
   ]
  },
  {
   "cell_type": "markdown",
   "id": "a8d200c3",
   "metadata": {},
   "source": [
    "Here's a test of the code:"
   ]
  },
  {
   "cell_type": "code",
   "execution_count": 1,
   "id": "fbec4a5c",
   "metadata": {},
   "outputs": [],
   "source": [
    "run ../src/wc_ratio_single_index.py"
   ]
  },
  {
   "cell_type": "markdown",
   "id": "301e8aaa",
   "metadata": {},
   "source": [
    "Let's start with $n=3^4$, just to verify that the code works."
   ]
  },
  {
   "cell_type": "code",
   "execution_count": 2,
   "id": "315ac468",
   "metadata": {},
   "outputs": [],
   "source": [
    "s = 3\n",
    "ssy = SSY(L=s, K=s, I=s, J=s, build_single_index=True)"
   ]
  },
  {
   "cell_type": "code",
   "execution_count": 3,
   "id": "925869a6",
   "metadata": {},
   "outputs": [
    {
     "name": "stdout",
     "output_type": "stream",
     "text": [
      "dict_keys(['newton', 'anderson', 'successive_approx'])\n"
     ]
    }
   ],
   "source": [
    "print(solvers.keys())"
   ]
  },
  {
   "cell_type": "code",
   "execution_count": 4,
   "id": "1026b2db",
   "metadata": {},
   "outputs": [
    {
     "name": "stdout",
     "output_type": "stream",
     "text": [
      "Beginning iteration\n",
      "\n",
      "\n",
      "iter = 0, error = 4595.925224178379\n",
      "iter = 1, error = 4419.779393640898\n",
      "iter = 2, error = 23.27635205848435\n",
      "iter = 3, error = 0.05675964976137493\n",
      "iter = 4, error = 2.7144183150085155e-06\n",
      "iter = 5, error = 3.512923285597935e-11\n",
      "Iteration converged after 6 iterations\n",
      "CPU times: user 6.51 s, sys: 236 ms, total: 6.75 s\n",
      "Wall time: 5.34 s\n"
     ]
    }
   ],
   "source": [
    "%%time\n",
    "w_star_single = wc_ratio_single_index(ssy, algorithm=\"newton\")"
   ]
  },
  {
   "cell_type": "code",
   "execution_count": 5,
   "id": "e22e5148",
   "metadata": {},
   "outputs": [
    {
     "data": {
      "text/plain": [
       "array([[[[829.19974818, 852.09611779, 874.8311396 ],\n",
       "         [807.26402064, 840.28614206, 873.68953344],\n",
       "         [775.83240529, 823.10889033, 872.57959972]],\n",
       "\n",
       "        [[824.39045411, 847.14345628, 869.7361625 ],\n",
       "         [802.594611  , 835.41276679, 868.60968046],\n",
       "         [771.35976012, 818.34891268, 867.51834482]],\n",
       "\n",
       "        [[813.53342141, 835.96920036, 858.24702393],\n",
       "         [792.0447625 , 824.40939541, 857.14737607],\n",
       "         [761.24501913, 807.59180431, 856.08817106]]],\n",
       "\n",
       "\n",
       "       [[[866.45033863, 890.39607943, 914.17288536],\n",
       "         [843.50839069, 878.04197506, 912.97419386],\n",
       "         [810.63717679, 860.07325395, 911.80428301]],\n",
       "\n",
       "        [[861.42023005, 885.21601371, 908.84396289],\n",
       "         [838.62459721, 872.9448429 , 907.66109541],\n",
       "         [805.95919075, 855.09473527, 906.51064566]],\n",
       "\n",
       "        [[850.06602521, 873.53001383, 896.82861674],\n",
       "         [827.59169163, 861.43759001, 895.67383664],\n",
       "         [795.38137581, 843.84507463, 894.55703017]]],\n",
       "\n",
       "\n",
       "       [[[905.3945672 , 930.43781297, 955.30418355],\n",
       "         [881.40021424, 917.51452845, 954.04563609],\n",
       "         [847.02339572, 898.7179032 , 952.81271611]],\n",
       "\n",
       "        [[900.13350283, 925.01989886, 949.73057083],\n",
       "         [876.29219129, 912.18336296, 948.48857965],\n",
       "         [842.13063879, 893.51080695, 947.27602373]],\n",
       "\n",
       "        [[888.25933349, 912.79869316, 937.16489075],\n",
       "         [864.75408494, 900.14912841, 935.95229847],\n",
       "         [831.06852421, 881.746015  , 934.7749693 ]]]])"
      ]
     },
     "execution_count": 5,
     "metadata": {},
     "output_type": "execute_result"
    }
   ],
   "source": [
    "w_star_single"
   ]
  },
  {
   "cell_type": "markdown",
   "id": "6cb7e1da",
   "metadata": {},
   "source": [
    "When $n$ gets to around 12, the kernel dies or the program fails with an out of memory error."
   ]
  },
  {
   "cell_type": "markdown",
   "id": "36a65e6d",
   "metadata": {},
   "source": [
    "## Multi-Index Code"
   ]
  },
  {
   "cell_type": "markdown",
   "id": "ad3f81bb",
   "metadata": {},
   "source": [
    "With multi-index code, the state remains as a multidimensional grid and the Markov matrix of transitions does not need to be instantiated.  Transition probabilities are calculated at run time.\n",
    "\n",
    "In addition, we use some JAX tricks to avoid instantiating the Jacobian used in Newton iteration.\n",
    "\n",
    "To put this on the GPU via JAX, we use broadcasting to define the necessary calculations."
   ]
  },
  {
   "cell_type": "code",
   "execution_count": 1,
   "id": "ad8f9909",
   "metadata": {},
   "outputs": [],
   "source": [
    "run ../src/wc_ratio_multi_index.py"
   ]
  },
  {
   "cell_type": "markdown",
   "id": "e122322c",
   "metadata": {},
   "source": [
    "Here's a quick test at $n=3^4$:"
   ]
  },
  {
   "cell_type": "code",
   "execution_count": 2,
   "id": "7adf466d",
   "metadata": {},
   "outputs": [],
   "source": [
    "s = 3\n",
    "ssy = SSY(L=s, K=s, I=s, J=s, build_single_index=False)"
   ]
  },
  {
   "cell_type": "code",
   "execution_count": null,
   "id": "dca864da",
   "metadata": {},
   "outputs": [],
   "source": [
    "%%time\n",
    "w_star_multi_newton = wc_ratio_multi_index(ssy, algorithm=\"newton\")"
   ]
  },
  {
   "cell_type": "markdown",
   "id": "1b310349",
   "metadata": {},
   "source": [
    "Then numbers are very close to what we get with a single index calculation:"
   ]
  },
  {
   "cell_type": "code",
   "execution_count": 9,
   "id": "29beaeef",
   "metadata": {
    "scrolled": true
   },
   "outputs": [
    {
     "data": {
      "text/plain": [
       "DeviceArray([[[[829.82993073, 852.74401371, 875.4966214 ],\n",
       "               [807.8772417 , 840.92489178, 874.35410499],\n",
       "               [776.42133489, 823.7343184 , 873.24322697]],\n",
       "\n",
       "              [[825.01691459, 847.78751888, 870.39770055],\n",
       "               [803.20421857, 836.0477448 , 869.27032013],\n",
       "               [771.9452289 , 818.97065717, 868.17805489]],\n",
       "\n",
       "              [[814.15148897, 836.60462393, 858.8996787 ],\n",
       "               [792.64621538, 825.035867  , 857.7991534 ],\n",
       "               [761.82267063, 808.2052336 , 856.73904419]]],\n",
       "\n",
       "\n",
       "             [[[865.41862459, 889.33525697, 913.08316573],\n",
       "               [842.50461325, 876.99628775, 911.88611528],\n",
       "               [809.67334179, 859.04956287, 910.71794249]],\n",
       "\n",
       "              [[860.39464688, 884.16150486, 907.76073825],\n",
       "               [837.62677231, 871.90536807, 906.57949248],\n",
       "               [805.00105749, 854.07711212, 905.43075702]],\n",
       "\n",
       "              [[849.05423229, 872.48969925, 895.75998741],\n",
       "               [826.60726546, 860.41209128, 894.60679406],\n",
       "               [794.43608714, 842.84111334, 893.49165981]]],\n",
       "\n",
       "\n",
       "             [[[902.55201211, 927.51509428, 952.30188229],\n",
       "               [878.63455588, 914.63342972, 951.04777113],\n",
       "               [844.36771896, 895.89732325, 949.81953867]],\n",
       "\n",
       "              [[897.30782348, 922.11455928, 946.74614836],\n",
       "               [873.54291744, 909.31936475, 945.50854008],\n",
       "               [839.49065575, 890.70692917, 944.30060592]],\n",
       "\n",
       "              [[885.47163214, 909.93244462, 934.2206641 ],\n",
       "               [862.04171078, 897.32362047, 933.01235872],\n",
       "               [828.46391442, 878.97976198, 931.83953554]]]],            dtype=float64)"
      ]
     },
     "execution_count": 9,
     "metadata": {},
     "output_type": "execute_result"
    }
   ],
   "source": [
    "w_star_multi_newton"
   ]
  },
  {
   "cell_type": "markdown",
   "id": "f87f5629",
   "metadata": {},
   "source": [
    "Now let's try with large $n$ and compare."
   ]
  },
  {
   "cell_type": "code",
   "execution_count": 3,
   "id": "1ff0067b",
   "metadata": {},
   "outputs": [],
   "source": [
    "s = 18\n",
    "ssy = SSY(L=s, K=s, I=s, J=s, build_single_index=False)"
   ]
  },
  {
   "cell_type": "markdown",
   "id": "546f505b",
   "metadata": {},
   "source": [
    "The size of the state space is "
   ]
  },
  {
   "cell_type": "code",
   "execution_count": 4,
   "id": "7508d685",
   "metadata": {},
   "outputs": [
    {
     "data": {
      "text/plain": [
       "104976"
      ]
     },
     "execution_count": 4,
     "metadata": {},
     "output_type": "execute_result"
    }
   ],
   "source": [
    "s**4"
   ]
  },
  {
   "cell_type": "code",
   "execution_count": 12,
   "id": "f0101db4",
   "metadata": {},
   "outputs": [
    {
     "name": "stdout",
     "output_type": "stream",
     "text": [
      "Beginning iteration\n",
      "\n",
      "\n",
      "iter = 0, error = 20.69205479122877\n",
      "iter = 1000, error = 0.04128829140847756\n",
      "iter = 2000, error = 4.7093378157114785e-05\n",
      "Iteration converged after 2907 iterations\n",
      "CPU times: user 25min 29s, sys: 2.62 s, total: 25min 32s\n",
      "Wall time: 25min 25s\n"
     ]
    }
   ],
   "source": [
    "%%time\n",
    "w_star_multi_sa = wc_ratio_multi_index(ssy, algorithm=\"successive_approx\")"
   ]
  },
  {
   "cell_type": "code",
   "execution_count": null,
   "id": "f2f471a5",
   "metadata": {},
   "outputs": [],
   "source": [
    "%%time\n",
    "w_star_multi_newton = wc_ratio_multi_index(ssy, algorithm=\"newton\")"
   ]
  },
  {
   "cell_type": "code",
   "execution_count": 14,
   "id": "985bc950",
   "metadata": {},
   "outputs": [
    {
     "name": "stderr",
     "output_type": "stream",
     "text": [
      "[autoreload of utils failed: Traceback (most recent call last):\n",
      "  File \"/home/john/anaconda3/lib/python3.9/site-packages/IPython/extensions/autoreload.py\", line 257, in check\n",
      "    superreload(m, reload, self.old_objects)\n",
      "  File \"/home/john/anaconda3/lib/python3.9/site-packages/IPython/extensions/autoreload.py\", line 455, in superreload\n",
      "    module = reload(module)\n",
      "  File \"/home/john/anaconda3/lib/python3.9/importlib/__init__.py\", line 168, in reload\n",
      "    raise ModuleNotFoundError(f\"spec not found for the module {name!r}\", name=name)\n",
      "ModuleNotFoundError: spec not found for the module 'utils'\n",
      "]\n"
     ]
    },
    {
     "data": {
      "text/plain": [
       "1.4647637726739049e-05"
      ]
     },
     "execution_count": 14,
     "metadata": {},
     "output_type": "execute_result"
    }
   ],
   "source": [
    "np.max(np.abs(w_star_multi_newton - w_star_multi_sa))"
   ]
  },
  {
   "cell_type": "code",
   "execution_count": null,
   "id": "8e58cdcb",
   "metadata": {},
   "outputs": [],
   "source": []
  }
 ],
 "metadata": {
  "kernelspec": {
   "display_name": "Python 3 (ipykernel)",
   "language": "python",
   "name": "python3"
  },
  "language_info": {
   "codemirror_mode": {
    "name": "ipython",
    "version": 3
   },
   "file_extension": ".py",
   "mimetype": "text/x-python",
   "name": "python",
   "nbconvert_exporter": "python",
   "pygments_lexer": "ipython3",
   "version": "3.9.12"
  }
 },
 "nbformat": 4,
 "nbformat_minor": 5
}
