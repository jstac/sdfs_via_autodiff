{
 "cells": [
  {
   "cell_type": "code",
   "execution_count": 47,
   "id": "fbec4a5c",
   "metadata": {},
   "outputs": [],
   "source": [
    "run ../src/wc_ratio_single_index.py"
   ]
  },
  {
   "cell_type": "code",
   "execution_count": 48,
   "id": "315ac468",
   "metadata": {},
   "outputs": [],
   "source": [
    "s = 3\n",
    "ssy = SSY(L=s, K=s, I=s, J=s)"
   ]
  },
  {
   "cell_type": "code",
   "execution_count": 49,
   "id": "f86accd3",
   "metadata": {},
   "outputs": [],
   "source": [
    "β, θ, N, H = ssy.β, ssy.θ, ssy.N, ssy.H\n",
    "params = H, β, θ"
   ]
  },
  {
   "cell_type": "code",
   "execution_count": 50,
   "id": "65d1bfe2",
   "metadata": {},
   "outputs": [],
   "source": [
    "w_init = np.ones(N)"
   ]
  },
  {
   "cell_type": "code",
   "execution_count": 51,
   "id": "63f4e799",
   "metadata": {},
   "outputs": [],
   "source": [
    "out = T(w_init, params)"
   ]
  },
  {
   "cell_type": "code",
   "execution_count": 52,
   "id": "83d522a9",
   "metadata": {},
   "outputs": [
    {
     "data": {
      "text/plain": [
       "(81,)"
      ]
     },
     "execution_count": 52,
     "metadata": {},
     "output_type": "execute_result"
    }
   ],
   "source": [
    "out.shape"
   ]
  },
  {
   "cell_type": "code",
   "execution_count": 53,
   "id": "1b1b1b75",
   "metadata": {},
   "outputs": [
    {
     "data": {
      "text/plain": [
       "DeviceArray([1.99753103, 1.99779073, 1.9980505 , 1.99726803, 1.99779073,\n",
       "             1.99831371, 1.99673883, 1.99779073, 1.99884375, 1.99751029,\n",
       "             1.99776999, 1.99802975, 1.9972473 , 1.99776999, 1.99829295,\n",
       "             1.99671811, 1.99776999, 1.99882298, 1.99734589, 1.99760554,\n",
       "             1.99786526, 1.99708294, 1.99760554, 1.99812842, 1.99655384,\n",
       "             1.99760554, 1.99865836, 1.99952412, 1.99978434, 2.00004463,\n",
       "             1.99926059, 1.99978434, 2.00030836, 1.99873033, 1.99978434,\n",
       "             2.00083945, 1.99950334, 1.99976355, 2.00002383, 1.99923982,\n",
       "             1.99976355, 2.00028756, 1.99870957, 1.99976355, 2.00081864,\n",
       "             1.99933861, 1.99959878, 1.99985902, 1.99907513, 1.99959878,\n",
       "             2.0001227 , 1.99854497, 1.99959878, 2.0006537 , 2.00152119,\n",
       "             2.00178193, 2.00204273, 2.00125713, 2.00178193, 2.00230699,\n",
       "             2.00072582, 2.00178193, 2.00283915, 2.00150036, 2.0017611 ,\n",
       "             2.0020219 , 2.00123631, 2.0017611 , 2.00228615, 2.00070501,\n",
       "             2.0017611 , 2.0028183 , 2.0013353 , 2.00159599, 2.00185675,\n",
       "             2.0010713 , 2.00159599, 2.00212096, 2.00054008, 2.00159599,\n",
       "             2.00265302], dtype=float64)"
      ]
     },
     "execution_count": 53,
     "metadata": {},
     "output_type": "execute_result"
    }
   ],
   "source": [
    "out"
   ]
  },
  {
   "cell_type": "code",
   "execution_count": 54,
   "id": "ad8f9909",
   "metadata": {},
   "outputs": [],
   "source": [
    "run ../src/wc_ratio_multi_index.py"
   ]
  },
  {
   "cell_type": "code",
   "execution_count": 55,
   "id": "6b7efc37",
   "metadata": {},
   "outputs": [],
   "source": [
    "# Unpack                                                                                                                                                                                                                        \n",
    "m = ssy                                                                                                                                                                                                                       \n",
    "params = (m.L, m.K, m.I, m.J,                                                                                                                                                                                                   \n",
    "         m.β, m.θ, m.γ, m.μ_c,                                                                                                                                                                                                      \n",
    "         m.h_λ_states, m.h_λ_P,                                                                                                                                                                                                     \n",
    "         m.h_c_states, m.h_c_P,                                                                                                                                                                                                     \n",
    "         m.h_z_states, m.h_z_P,                                                                                                                                                                                                     \n",
    "         m.z_states,   m.z_Q,                                                                                                                                                                                                       \n",
    "         m.σ_c_states, m.σ_z_states)          \n",
    "\n",
    "(L, K, I, J,                                                                                                                                                                                                                        \n",
    "     β, θ, γ, μ_c,                                                                                                                                                                                                                      \n",
    "     h_λ_states, h_λ_P,                                                                                                                                                                                                                 \n",
    "     h_c_states, h_c_P,                                                                                                                                                                                                                 \n",
    "     h_z_states, h_z_P,                                                                                                                                                                                                                 \n",
    "     z_states,   z_Q,                                                                                                                                                                                                                   \n",
    "     σ_c_states, σ_z_states) = params   "
   ]
  },
  {
   "cell_type": "code",
   "execution_count": 56,
   "id": "553a1ed7",
   "metadata": {},
   "outputs": [],
   "source": [
    "w_init = jnp.ones((m.L, m.K, m.I, m.J))"
   ]
  },
  {
   "cell_type": "code",
   "execution_count": 57,
   "id": "9329a0b1",
   "metadata": {},
   "outputs": [],
   "source": [
    "# Create intermediate arrays\n",
    "B1 = jnp.exp(θ * h_λ_states)\n",
    "B1 = jnp.reshape(B1, (1, 1, 1, 1, L, 1, 1, 1))"
   ]
  },
  {
   "cell_type": "code",
   "execution_count": 58,
   "id": "602f3847",
   "metadata": {},
   "outputs": [],
   "source": [
    "B2 = jnp.exp(0.5 * ((1-γ) * σ_c_states)**2)\n",
    "B2 = jnp.reshape(B2, (1, K, 1, 1, 1, 1, 1, 1))"
   ]
  },
  {
   "cell_type": "code",
   "execution_count": null,
   "id": "d1fee7dc",
   "metadata": {},
   "outputs": [],
   "source": [
    "B3 = jnp.exp((1-γ)*(μ_c + z_states))\n",
    "B3 = jnp.reshape(B3, (1, 1, I, J, 1, 1, 1, 1))"
   ]
  },
  {
   "cell_type": "code",
   "execution_count": 59,
   "id": "27185895",
   "metadata": {},
   "outputs": [],
   "source": [
    "# Reshape existing matrices prior to summing\n",
    "Phλ = jnp.reshape(h_λ_P,  (L, 1, 1, 1, L, 1, 1, 1))\n",
    "Phc = jnp.reshape(h_c_P,  (1, K, 1, 1, 1, K, 1, 1))\n",
    "Phz = jnp.reshape(h_z_P,  (1, 1, I, 1, 1, 1, I, 1))\n",
    "Pz  = jnp.reshape(z_Q,    (1, 1, I, J, 1, 1, 1, J))\n",
    "w   = jnp.reshape(w_init, (1, 1, 1, 1, L, K, I, J))\n",
    "\n",
    "# Take product and sum along last four axes\n",
    "A = w * B1 * B2 * B3 * Phλ * Phc * Phz * Pz   "
   ]
  },
  {
   "cell_type": "code",
   "execution_count": 60,
   "id": "9e59afff",
   "metadata": {},
   "outputs": [],
   "source": [
    "out = jnp.sum(A, axis=(4, 5, 6, 7))    "
   ]
  },
  {
   "cell_type": "code",
   "execution_count": 61,
   "id": "708e0dc3",
   "metadata": {},
   "outputs": [
    {
     "data": {
      "text/plain": [
       "(3, 3, 3, 3)"
      ]
     },
     "execution_count": 61,
     "metadata": {},
     "output_type": "execute_result"
    }
   ],
   "source": [
    "out.shape"
   ]
  },
  {
   "cell_type": "code",
   "execution_count": 62,
   "id": "0d915f3b",
   "metadata": {},
   "outputs": [
    {
     "data": {
      "text/plain": [
       "81"
      ]
     },
     "execution_count": 62,
     "metadata": {},
     "output_type": "execute_result"
    }
   ],
   "source": [
    "3**4"
   ]
  },
  {
   "cell_type": "code",
   "execution_count": 63,
   "id": "8d1df305",
   "metadata": {},
   "outputs": [
    {
     "data": {
      "text/plain": [
       "DeviceArray([[[[1.02253886, 1.01828253, 1.01404392],\n",
       "               [1.02686854, 1.01828253, 1.00976831],\n",
       "               [1.03563975, 1.01828253, 1.00121622]],\n",
       "\n",
       "              [[1.02287961, 1.01862187, 1.01438185],\n",
       "               [1.02721074, 1.01862187, 1.01010481],\n",
       "               [1.03598487, 1.01862187, 1.00154987]],\n",
       "\n",
       "              [[1.02558478, 1.02131577, 1.01706454],\n",
       "               [1.02992736, 1.02131577, 1.01277619],\n",
       "               [1.03872469, 1.02131577, 1.00419862]]],\n",
       "\n",
       "\n",
       "             [[[0.99165089, 0.98752313, 0.98341256],\n",
       "               [0.99584978, 0.98752313, 0.97926611],\n",
       "               [1.00435604, 0.98752313, 0.97097235]],\n",
       "\n",
       "              [[0.99198136, 0.98785222, 0.98374028],\n",
       "               [0.99618165, 0.98785222, 0.97959244],\n",
       "               [1.00469074, 0.98785222, 0.97129592]],\n",
       "\n",
       "              [[0.9946048 , 0.99046475, 0.98634193],\n",
       "               [0.99881621, 0.99046475, 0.98218313],\n",
       "               [1.0073478 , 0.99046475, 0.97386466]]],\n",
       "\n",
       "\n",
       "             [[[0.96169596, 0.95769289, 0.95370649],\n",
       "               [0.96576802, 0.95769289, 0.94968529],\n",
       "               [0.97401732, 0.95769289, 0.94164206]],\n",
       "\n",
       "              [[0.96201644, 0.95801204, 0.95402431],\n",
       "               [0.96608986, 0.95801204, 0.95000177],\n",
       "               [0.97434191, 0.95801204, 0.94195586]],\n",
       "\n",
       "              [[0.96456064, 0.96054565, 0.95654737],\n",
       "               [0.96864483, 0.96054565, 0.95251419],\n",
       "               [0.97691871, 0.96054565, 0.94444701]]]], dtype=float64)"
      ]
     },
     "execution_count": 63,
     "metadata": {},
     "output_type": "execute_result"
    }
   ],
   "source": [
    "out"
   ]
  },
  {
   "cell_type": "code",
   "execution_count": null,
   "id": "4bc06ce8",
   "metadata": {},
   "outputs": [],
   "source": []
  }
 ],
 "metadata": {
  "kernelspec": {
   "display_name": "Python 3 (ipykernel)",
   "language": "python",
   "name": "python3"
  },
  "language_info": {
   "codemirror_mode": {
    "name": "ipython",
    "version": 3
   },
   "file_extension": ".py",
   "mimetype": "text/x-python",
   "name": "python",
   "nbconvert_exporter": "python",
   "pygments_lexer": "ipython3",
   "version": "3.9.7"
  }
 },
 "nbformat": 4,
 "nbformat_minor": 5
}
