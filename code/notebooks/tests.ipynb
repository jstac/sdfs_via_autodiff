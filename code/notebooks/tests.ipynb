{
 "cells": [
  {
   "cell_type": "markdown",
   "id": "0ad0385f",
   "metadata": {},
   "source": [
    "# Testing Newton Algorithm with AutoDiff"
   ]
  },
  {
   "cell_type": "code",
   "execution_count": 1,
   "id": "38a6d210",
   "metadata": {},
   "outputs": [],
   "source": [
    "run ../src/wc_ratio_jax.py"
   ]
  },
  {
   "cell_type": "markdown",
   "id": "5c6bf44c",
   "metadata": {},
   "source": [
    "Set up a discretized SSY model."
   ]
  },
  {
   "cell_type": "code",
   "execution_count": 2,
   "id": "2f035162",
   "metadata": {},
   "outputs": [],
   "source": [
    "s = 5\n",
    "dssy = DiscretizedSSY(L=s, K=s, I=s, J=s)"
   ]
  },
  {
   "cell_type": "markdown",
   "id": "122595c1",
   "metadata": {},
   "source": [
    "Call the solver using Newton's algorithm."
   ]
  },
  {
   "cell_type": "code",
   "execution_count": 3,
   "id": "ed3496a8",
   "metadata": {},
   "outputs": [
    {
     "name": "stdout",
     "output_type": "stream",
     "text": [
      "Beginning iteration\n",
      "\n",
      "\n",
      "Iteration converged after 6 iterations\n",
      "CPU times: user 1.56 s, sys: 352 ms, total: 1.91 s\n",
      "Wall time: 2.27 s\n"
     ]
    }
   ],
   "source": [
    "%time out_newton = wc_ratio(dssy, algorithm=\"newton\")"
   ]
  },
  {
   "cell_type": "markdown",
   "id": "6f4e9125",
   "metadata": {},
   "source": [
    "Call the solver using ordinary successive approximations."
   ]
  },
  {
   "cell_type": "code",
   "execution_count": 5,
   "id": "72e8179e",
   "metadata": {},
   "outputs": [
    {
     "name": "stdout",
     "output_type": "stream",
     "text": [
      "Beginning iteration\n",
      "\n",
      "\n",
      "Iteration converged after 11792 iterations\n",
      "CPU times: user 21.5 s, sys: 1.47 s, total: 23 s\n",
      "Wall time: 19.1 s\n"
     ]
    }
   ],
   "source": [
    "%time out = wc_ratio(dssy, algorithm=\"fwd\")"
   ]
  },
  {
   "cell_type": "markdown",
   "id": "59d6d046",
   "metadata": {},
   "source": [
    "Test that the two outputs are similar."
   ]
  },
  {
   "cell_type": "code",
   "execution_count": 6,
   "id": "5aadc157",
   "metadata": {},
   "outputs": [
    {
     "data": {
      "text/plain": [
       "7.280243221430283e-05"
      ]
     },
     "execution_count": 6,
     "metadata": {},
     "output_type": "execute_result"
    }
   ],
   "source": [
    "np.max(np.abs(out - out_newton))"
   ]
  },
  {
   "cell_type": "code",
   "execution_count": null,
   "id": "c2a2d202",
   "metadata": {},
   "outputs": [],
   "source": []
  }
 ],
 "metadata": {
  "kernelspec": {
   "display_name": "Python 3 (ipykernel)",
   "language": "python",
   "name": "python3"
  },
  "language_info": {
   "codemirror_mode": {
    "name": "ipython",
    "version": 3
   },
   "file_extension": ".py",
   "mimetype": "text/x-python",
   "name": "python",
   "nbconvert_exporter": "python",
   "pygments_lexer": "ipython3",
   "version": "3.9.7"
  }
 },
 "nbformat": 4,
 "nbformat_minor": 5
}
