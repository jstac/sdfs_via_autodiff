{
 "cells": [
  {
   "cell_type": "code",
   "execution_count": 1,
   "id": "456f1d5d",
   "metadata": {},
   "outputs": [],
   "source": [
    "run ssy_wc_ratio.py"
   ]
  },
  {
   "cell_type": "code",
   "execution_count": null,
   "id": "b6b9b99c",
   "metadata": {},
   "outputs": [
    {
     "name": "stderr",
     "output_type": "stream",
     "text": [
      "/home/john/gh_synced/papers/sdfs_via_autodiff/code/ssy/discrete/ssy_wc_ratio.py:48: UserWarning: The API of rouwenhorst has changed from `rouwenhorst(n, ybar, sigma, rho)` to `rouwenhorst(n, rho, sigma, mu=0.)`. To find more details please visit: https://github.com/QuantEcon/QuantEcon.py/issues/663.\n",
      "  h_λ_mc = rouwenhorst(n_h_λ, ρ_λ, s_λ, 0)\n",
      "/home/john/gh_synced/papers/sdfs_via_autodiff/code/ssy/discrete/ssy_wc_ratio.py:49: UserWarning: The API of rouwenhorst has changed from `rouwenhorst(n, ybar, sigma, rho)` to `rouwenhorst(n, rho, sigma, mu=0.)`. To find more details please visit: https://github.com/QuantEcon/QuantEcon.py/issues/663.\n",
      "  h_c_mc = rouwenhorst(n_h_c, ρ_c, s_c, 0)\n",
      "/home/john/gh_synced/papers/sdfs_via_autodiff/code/ssy/discrete/ssy_wc_ratio.py:50: UserWarning: The API of rouwenhorst has changed from `rouwenhorst(n, ybar, sigma, rho)` to `rouwenhorst(n, rho, sigma, mu=0.)`. To find more details please visit: https://github.com/QuantEcon/QuantEcon.py/issues/663.\n",
      "  h_z_mc = rouwenhorst(n_h_z, ρ_z, s_z, 0)\n",
      "/home/john/gh_synced/papers/sdfs_via_autodiff/code/ssy/discrete/ssy_wc_ratio.py:63: UserWarning: The API of rouwenhorst has changed from `rouwenhorst(n, ybar, sigma, rho)` to `rouwenhorst(n, rho, sigma, mu=0.)`. To find more details please visit: https://github.com/QuantEcon/QuantEcon.py/issues/663.\n",
      "  mc_z = rouwenhorst(n_z, ρ, σ_z, 0)\n",
      "No GPU/TPU found, falling back to CPU. (Set TF_CPP_MIN_LOG_LEVEL=0 and rerun for more info.)\n"
     ]
    },
    {
     "name": "stdout",
     "output_type": "stream",
     "text": [
      "Beginning iteration\n",
      "\n",
      "\n",
      "iter = 0, error = 4302.341800771495\n",
      "iter = 1, error = 4074.9605304521597\n",
      "iter = 2, error = 112.01772152357796\n",
      "iter = 3, error = 3.834976201446807\n"
     ]
    }
   ],
   "source": [
    "shapes = (10, 10, 10, 10)\n",
    "w = test_compute_wc_ratio_ssy(shapes, algo=\"newton\")"
   ]
  },
  {
   "cell_type": "code",
   "execution_count": null,
   "id": "f6f74d71",
   "metadata": {},
   "outputs": [],
   "source": []
  }
 ],
 "metadata": {
  "kernelspec": {
   "display_name": "Python 3 (ipykernel)",
   "language": "python",
   "name": "python3"
  },
  "language_info": {
   "codemirror_mode": {
    "name": "ipython",
    "version": 3
   },
   "file_extension": ".py",
   "mimetype": "text/x-python",
   "name": "python",
   "nbconvert_exporter": "python",
   "pygments_lexer": "ipython3",
   "version": "3.10.9"
  }
 },
 "nbformat": 4,
 "nbformat_minor": 5
}
